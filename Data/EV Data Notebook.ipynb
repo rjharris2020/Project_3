{
 "cells": [
  {
   "cell_type": "code",
   "execution_count": 1,
   "id": "57ecbc43",
   "metadata": {},
   "outputs": [],
   "source": [
    "import os\n",
    "import pandas as pd\n",
    "import json\n",
    "import pymongo\n",
    "import csv\n",
    "from pymongo import MongoClient\n"
   ]
  },
  {
   "cell_type": "code",
   "execution_count": 2,
   "id": "b4d616ef",
   "metadata": {},
   "outputs": [],
   "source": [
    "#Create connection\n",
    "\n",
    "connectionstring = 'mongodb://localhost:27017'\n",
    "client = pymongo.MongoClient(connectionstring)"
   ]
  },
  {
   "cell_type": "code",
   "execution_count": 3,
   "id": "db9e0705",
   "metadata": {},
   "outputs": [],
   "source": [
    "#declare the database\n",
    "\n",
    "evDB = client.evDB"
   ]
  },
  {
   "cell_type": "code",
   "execution_count": 4,
   "id": "0aa93c25",
   "metadata": {},
   "outputs": [],
   "source": [
    "#delare collectiions\n",
    "\n",
    "\n",
    "emission = evDB.emission\n",
    "energy = evDB.energy\n",
    "evconsumptiontest = evDB.evconsumptiontest\n",
    "registrationtest = evDB.registrationtest"
   ]
  },
  {
   "cell_type": "code",
   "execution_count": 5,
   "id": "ec45f0f7",
   "metadata": {},
   "outputs": [
    {
     "data": {
      "text/plain": [
       "<pymongo.results.InsertManyResult at 0x1a6b2dbf040>"
      ]
     },
     "execution_count": 5,
     "metadata": {},
     "output_type": "execute_result"
    }
   ],
   "source": [
    "def csv_to_json(emission_data,header=None):\n",
    "    data = pd.read_csv(emission_data, header=1)\n",
    "    return data.to_dict('records')\n",
    "\n",
    "emission.insert_many(csv_to_json('emission_data.csv','r'))"
   ]
  },
  {
   "cell_type": "code",
   "execution_count": 6,
   "id": "b587da37",
   "metadata": {},
   "outputs": [
    {
     "data": {
      "text/plain": [
       "<pymongo.results.InsertManyResult at 0x1a6b56c8400>"
      ]
     },
     "execution_count": 6,
     "metadata": {},
     "output_type": "execute_result"
    }
   ],
   "source": [
    "def csv_to_json(test_energy_data,header=None):\n",
    "    data = pd.read_csv(test_energy_data, header=1)\n",
    "    return data.to_dict('records')\n",
    "\n",
    "energy.insert_many(csv_to_json('energy_data.csv','r'))"
   ]
  },
  {
   "cell_type": "code",
   "execution_count": 7,
   "id": "318751f8",
   "metadata": {},
   "outputs": [
    {
     "data": {
      "text/plain": [
       "<pymongo.results.InsertManyResult at 0x1a6b5534700>"
      ]
     },
     "execution_count": 7,
     "metadata": {},
     "output_type": "execute_result"
    }
   ],
   "source": [
    "def csv_to_json(test_evconsumption_data,header=None):\n",
    "    data = pd.read_csv(test_evconsumption_data, header =0)\n",
    "    return data.to_dict('records')\n",
    "\n",
    "evconsumptiontest.insert_many(csv_to_json('evconsumption_data.csv','r'))"
   ]
  },
  {
   "cell_type": "code",
   "execution_count": 9,
   "id": "4677500d",
   "metadata": {},
   "outputs": [
    {
     "data": {
      "text/plain": [
       "<pymongo.results.InsertManyResult at 0x1a692f69b40>"
      ]
     },
     "execution_count": 9,
     "metadata": {},
     "output_type": "execute_result"
    }
   ],
   "source": [
    "def csv_to_json(test_registrations_data,header=None):\n",
    "    data = pd.read_csv(test_registrations_data, header=0, low_memory=False)\n",
    "    return data.to_dict('records')\n",
    "\n",
    "registrationtest.insert_many(csv_to_json('registration_data.csv','r'))"
   ]
  },
  {
   "cell_type": "code",
   "execution_count": null,
   "id": "85c304b6",
   "metadata": {},
   "outputs": [],
   "source": []
  }
 ],
 "metadata": {
  "kernelspec": {
   "display_name": "Python 3",
   "language": "python",
   "name": "python3"
  },
  "language_info": {
   "codemirror_mode": {
    "name": "ipython",
    "version": 3
   },
   "file_extension": ".py",
   "mimetype": "text/x-python",
   "name": "python",
   "nbconvert_exporter": "python",
   "pygments_lexer": "ipython3",
   "version": "3.8.8"
  }
 },
 "nbformat": 4,
 "nbformat_minor": 5
}
