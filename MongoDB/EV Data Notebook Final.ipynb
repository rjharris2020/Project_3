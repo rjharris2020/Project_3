{
 "cells": [
  {
   "cell_type": "code",
   "execution_count": 10,
   "id": "57ecbc43",
   "metadata": {},
   "outputs": [],
   "source": [
    "import os\n",
    "import pandas as pd\n",
    "import json\n",
    "import pymongo\n",
    "import csv\n",
    "from pymongo import MongoClient\n"
   ]
  },
  {
   "cell_type": "code",
   "execution_count": 11,
   "id": "b4d616ef",
   "metadata": {},
   "outputs": [],
   "source": [
    "#Create connection\n",
    "\n",
    "connectionstring = 'mongodb://localhost:27017'\n",
    "client = pymongo.MongoClient(connectionstring)"
   ]
  },
  {
   "cell_type": "code",
   "execution_count": 12,
   "id": "db9e0705",
   "metadata": {},
   "outputs": [],
   "source": [
    "#declare the database\n",
    "\n",
    "evDB = client.evDB"
   ]
  },
  {
   "cell_type": "code",
   "execution_count": 13,
   "id": "0aa93c25",
   "metadata": {},
   "outputs": [],
   "source": [
    "#delare collectiions\n",
    "\n",
    "\n",
    "emissions = evDB.emissions\n",
    "energy = evDB.energy\n",
    "evconsumption = evDB.evconsumption\n",
    "registrations = evDB.registrations\n",
    "transemissions = evDB.transemissions\n",
    "final_top5ev = evDB.finaltop5ev"
   ]
  },
  {
   "cell_type": "code",
   "execution_count": 14,
   "id": "ec45f0f7",
   "metadata": {},
   "outputs": [
    {
     "data": {
      "text/plain": [
       "<pymongo.results.InsertManyResult at 0x1d262eaa200>"
      ]
     },
     "execution_count": 14,
     "metadata": {},
     "output_type": "execute_result"
    }
   ],
   "source": [
    "def csv_to_json(emissions_data,header=None):\n",
    "    data = pd.read_csv(emissions_data, header=1)\n",
    "    return data.to_dict('records')\n",
    "\n",
    "emissions.insert_many(csv_to_json('emissions_data.csv','r'))"
   ]
  },
  {
   "cell_type": "code",
   "execution_count": 15,
   "id": "b587da37",
   "metadata": {},
   "outputs": [
    {
     "data": {
      "text/plain": [
       "<pymongo.results.InsertManyResult at 0x1d262e90440>"
      ]
     },
     "execution_count": 15,
     "metadata": {},
     "output_type": "execute_result"
    }
   ],
   "source": [
    "def csv_to_json(energy_data,header=None):\n",
    "    data = pd.read_csv(energy_data, header=1)\n",
    "    return data.to_dict('records')\n",
    "\n",
    "energy.insert_many(csv_to_json('energy_data.csv','r'))"
   ]
  },
  {
   "cell_type": "code",
   "execution_count": 16,
   "id": "318751f8",
   "metadata": {},
   "outputs": [
    {
     "data": {
      "text/plain": [
       "<pymongo.results.InsertManyResult at 0x1d262ce8b40>"
      ]
     },
     "execution_count": 16,
     "metadata": {},
     "output_type": "execute_result"
    }
   ],
   "source": [
    "def csv_to_json(evconsumption_data,header=None):\n",
    "    data = pd.read_csv(evconsumption_data, header =0)\n",
    "    return data.to_dict('records')\n",
    "\n",
    "evconsumption.insert_many(csv_to_json('evconsumption_data.csv','r'))"
   ]
  },
  {
   "cell_type": "code",
   "execution_count": 17,
   "id": "4677500d",
   "metadata": {},
   "outputs": [
    {
     "data": {
      "text/plain": [
       "<pymongo.results.InsertManyResult at 0x1d24f5c3fc0>"
      ]
     },
     "execution_count": 17,
     "metadata": {},
     "output_type": "execute_result"
    }
   ],
   "source": [
    "def csv_to_json(registrations_data,header=None):\n",
    "    data = pd.read_csv(registrations_data, header=0, low_memory=False)\n",
    "    return data.to_dict('records')\n",
    "\n",
    "registrations.insert_many(csv_to_json('registrations_data.csv','r'))"
   ]
  },
  {
   "cell_type": "code",
   "execution_count": 18,
   "id": "85c304b6",
   "metadata": {},
   "outputs": [
    {
     "data": {
      "text/plain": [
       "<pymongo.results.InsertManyResult at 0x1d26f16fb40>"
      ]
     },
     "execution_count": 18,
     "metadata": {},
     "output_type": "execute_result"
    }
   ],
   "source": [
    "def csv_to_json(transemissions,header=None):\n",
    "    data = pd.read_csv(transemissions, header=0, low_memory=False)\n",
    "    return data.to_dict('records')\n",
    "\n",
    "transemissions.insert_many(csv_to_json('transposed_emissions.csv','r'))"
   ]
  },
  {
   "cell_type": "code",
   "execution_count": 19,
   "id": "97800706",
   "metadata": {},
   "outputs": [
    {
     "data": {
      "text/plain": [
       "<pymongo.results.InsertManyResult at 0x1d262678200>"
      ]
     },
     "execution_count": 19,
     "metadata": {},
     "output_type": "execute_result"
    }
   ],
   "source": [
    "def csv_to_json(final_top5ev,header=None):\n",
    "    data = pd.read_csv(final_top5ev, header=0)\n",
    "    return data.to_dict('records')\n",
    "\n",
    "final_top5ev.insert_many(csv_to_json('final_top5ev.csv','r'))"
   ]
  },
  {
   "cell_type": "code",
   "execution_count": null,
   "id": "d90157ca",
   "metadata": {},
   "outputs": [],
   "source": []
  },
  {
   "cell_type": "code",
   "execution_count": null,
   "id": "0f3a28df",
   "metadata": {},
   "outputs": [],
   "source": []
  }
 ],
 "metadata": {
  "kernelspec": {
   "display_name": "Python 3",
   "language": "python",
   "name": "python3"
  },
  "language_info": {
   "codemirror_mode": {
    "name": "ipython",
    "version": 3
   },
   "file_extension": ".py",
   "mimetype": "text/x-python",
   "name": "python",
   "nbconvert_exporter": "python",
   "pygments_lexer": "ipython3",
   "version": "3.8.8"
  }
 },
 "nbformat": 4,
 "nbformat_minor": 5
}
