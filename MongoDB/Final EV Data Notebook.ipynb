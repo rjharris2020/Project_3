{
 "cells": [
  {
   "cell_type": "code",
   "execution_count": 1,
   "id": "57ecbc43",
   "metadata": {},
   "outputs": [],
   "source": [
    "import os\n",
    "import pandas as pd\n",
    "import json\n",
    "import pymongo\n",
    "import csv\n",
    "from pymongo import MongoClient\n"
   ]
  },
  {
   "cell_type": "code",
   "execution_count": 2,
   "id": "b4d616ef",
   "metadata": {},
   "outputs": [],
   "source": [
    "#Create connection\n",
    "\n",
    "connectionstring = 'mongodb://localhost:27017'\n",
    "client = pymongo.MongoClient(connectionstring)"
   ]
  },
  {
   "cell_type": "code",
   "execution_count": 21,
   "id": "db9e0705",
   "metadata": {},
   "outputs": [],
   "source": [
    "#declare the database\n",
    "\n",
    "evData = client.evData"
   ]
  },
  {
   "cell_type": "code",
   "execution_count": 22,
   "id": "0aa93c25",
   "metadata": {},
   "outputs": [],
   "source": [
    "#delare collectiions\n",
    "\n",
    "\n",
    "emissions = evData.emissions\n",
    "energy = evData.energy\n",
    "evconsumption = evData.evconsumption\n",
    "registrations = evData.registrations\n",
    "transemissions = evData.transemissions\n",
    "final_top5ev = evData.finaltop5ev"
   ]
  },
  {
   "cell_type": "code",
   "execution_count": 23,
   "id": "ec45f0f7",
   "metadata": {},
   "outputs": [
    {
     "data": {
      "text/plain": [
       "<pymongo.results.InsertManyResult at 0x1d90b7f6100>"
      ]
     },
     "execution_count": 23,
     "metadata": {},
     "output_type": "execute_result"
    }
   ],
   "source": [
    "def csv_to_json(emissions_data,header=None):\n",
    "    data = pd.read_csv(emissions_data, header=1)\n",
    "    return data.to_dict('records')\n",
    "\n",
    "emissions.insert_many(csv_to_json('emissions_data.csv','r'))"
   ]
  },
  {
   "cell_type": "code",
   "execution_count": 24,
   "id": "b587da37",
   "metadata": {},
   "outputs": [
    {
     "data": {
      "text/plain": [
       "<pymongo.results.InsertManyResult at 0x1d903b46ec0>"
      ]
     },
     "execution_count": 24,
     "metadata": {},
     "output_type": "execute_result"
    }
   ],
   "source": [
    "def csv_to_json(energy_data,header=None):\n",
    "    data = pd.read_csv(energy_data, header=1)\n",
    "    return data.to_dict('records')\n",
    "\n",
    "energy.insert_many(csv_to_json('energy_data.csv','r'))"
   ]
  },
  {
   "cell_type": "code",
   "execution_count": 25,
   "id": "318751f8",
   "metadata": {},
   "outputs": [
    {
     "data": {
      "text/plain": [
       "<pymongo.results.InsertManyResult at 0x1d93d650840>"
      ]
     },
     "execution_count": 25,
     "metadata": {},
     "output_type": "execute_result"
    }
   ],
   "source": [
    "def csv_to_json(evconsumption_data,header=None):\n",
    "    data = pd.read_csv(evconsumption_data, header =0)\n",
    "    return data.to_dict('records')\n",
    "\n",
    "evconsumption.insert_many(csv_to_json('evconsumption_data.csv','r'))"
   ]
  },
  {
   "cell_type": "code",
   "execution_count": 26,
   "id": "4677500d",
   "metadata": {},
   "outputs": [
    {
     "data": {
      "text/plain": [
       "<pymongo.results.InsertManyResult at 0x1d974a75f40>"
      ]
     },
     "execution_count": 26,
     "metadata": {},
     "output_type": "execute_result"
    }
   ],
   "source": [
    "def csv_to_json(registrations_data,header=None):\n",
    "    data = pd.read_csv(registrations_data, header=0, low_memory=False)\n",
    "    return data.to_dict('records')\n",
    "\n",
    "registrations.insert_many(csv_to_json('registrations_data.csv','r'))"
   ]
  },
  {
   "cell_type": "code",
   "execution_count": 27,
   "id": "85c304b6",
   "metadata": {},
   "outputs": [
    {
     "data": {
      "text/plain": [
       "<pymongo.results.InsertManyResult at 0x1d93e223f80>"
      ]
     },
     "execution_count": 27,
     "metadata": {},
     "output_type": "execute_result"
    }
   ],
   "source": [
    "def csv_to_json(transemissions,header=None):\n",
    "    data = pd.read_csv(transemissions, header=0, low_memory=False)\n",
    "    return data.to_dict('records')\n",
    "\n",
    "transemissions.insert_many(csv_to_json('transposed_emissions.csv','r'))"
   ]
  },
  {
   "cell_type": "code",
   "execution_count": 28,
   "id": "25fe18e2",
   "metadata": {},
   "outputs": [
    {
     "data": {
      "text/plain": [
       "<pymongo.results.InsertManyResult at 0x1d919ff8ec0>"
      ]
     },
     "execution_count": 28,
     "metadata": {},
     "output_type": "execute_result"
    }
   ],
   "source": [
    "def csv_to_json(final_top5ev,header=None):\n",
    "    data = pd.read_csv(final_top5ev, header=0)\n",
    "    return data.to_dict('records')\n",
    "\n",
    "final_top5ev.insert_many(csv_to_json('final_top5ev.csv','r'))"
   ]
  },
  {
   "cell_type": "code",
   "execution_count": null,
   "id": "d8d77452",
   "metadata": {},
   "outputs": [],
   "source": []
  },
  {
   "cell_type": "code",
   "execution_count": null,
   "id": "fb4245f4",
   "metadata": {},
   "outputs": [],
   "source": []
  }
 ],
 "metadata": {
  "kernelspec": {
   "display_name": "Python 3",
   "language": "python",
   "name": "python3"
  },
  "language_info": {
   "codemirror_mode": {
    "name": "ipython",
    "version": 3
   },
   "file_extension": ".py",
   "mimetype": "text/x-python",
   "name": "python",
   "nbconvert_exporter": "python",
   "pygments_lexer": "ipython3",
   "version": "3.8.8"
  }
 },
 "nbformat": 4,
 "nbformat_minor": 5
}
