{
 "cells": [
  {
   "cell_type": "code",
   "execution_count": 1,
   "id": "57ecbc43",
   "metadata": {},
   "outputs": [],
   "source": [
    "import os\n",
    "import pandas as pd\n",
    "import json\n",
    "import pymongo\n",
    "import csv\n",
    "from pymongo import MongoClient\n"
   ]
  },
  {
   "cell_type": "code",
   "execution_count": 2,
   "id": "b4d616ef",
   "metadata": {},
   "outputs": [],
   "source": [
    "#Create connection\n",
    "\n",
    "connectionstring = 'mongodb://localhost:27017'\n",
    "client = pymongo.MongoClient(connectionstring)"
   ]
  },
  {
   "cell_type": "code",
   "execution_count": 3,
   "id": "db9e0705",
   "metadata": {},
   "outputs": [],
   "source": [
    "#declare the database\n",
    "\n",
    "evDB = client.evDB"
   ]
  },
  {
   "cell_type": "code",
   "execution_count": 27,
   "id": "0aa93c25",
   "metadata": {},
   "outputs": [],
   "source": [
    "#delare collectiions\n",
    "\n",
    "\n",
    "emissions = evDB.emissions\n",
    "energy = evDB.energy\n",
    "evconsumption = evDB.evconsumption\n",
    "registrations = evDB.registration\n",
    "transpose_emissions = evDB.transpose_emissions"
   ]
  },
  {
   "cell_type": "code",
   "execution_count": 28,
   "id": "ec45f0f7",
   "metadata": {},
   "outputs": [
    {
     "data": {
      "text/plain": [
       "<pymongo.results.InsertManyResult at 0x16e72b80d40>"
      ]
     },
     "execution_count": 28,
     "metadata": {},
     "output_type": "execute_result"
    }
   ],
   "source": [
    "#create emisssions collections\n",
    "\n",
    "def csv_to_json(emissions_data,header=None):\n",
    "    data = pd.read_csv(emissions_data, header=1)\n",
    "    return data.to_dict('records')\n",
    "\n",
    "emissions.insert_many(csv_to_json('emissions_data.csv','r'))"
   ]
  },
  {
   "cell_type": "code",
   "execution_count": 9,
   "id": "b587da37",
   "metadata": {},
   "outputs": [
    {
     "data": {
      "text/plain": [
       "<pymongo.results.InsertManyResult at 0x16e72b9e380>"
      ]
     },
     "execution_count": 9,
     "metadata": {},
     "output_type": "execute_result"
    }
   ],
   "source": [
    "#create energy collection\n",
    "\n",
    "def csv_to_json(energy_data,header=None):\n",
    "    data = pd.read_csv(energy_data, header=1)\n",
    "    return data.to_dict('records')\n",
    "\n",
    "energy.insert_many(csv_to_json('energy_data.csv','r'))"
   ]
  },
  {
   "cell_type": "code",
   "execution_count": 11,
   "id": "318751f8",
   "metadata": {},
   "outputs": [
    {
     "data": {
      "text/plain": [
       "<pymongo.results.InsertManyResult at 0x16e72c731c0>"
      ]
     },
     "execution_count": 11,
     "metadata": {},
     "output_type": "execute_result"
    }
   ],
   "source": [
    "#create evconsumption collection\n",
    "\n",
    "def csv_to_json(evconsumption_data,header=None):\n",
    "    data = pd.read_csv(evconsumption_data, header =0)\n",
    "    return data.to_dict('records')\n",
    "\n",
    "evconsumption.insert_many(csv_to_json('evconsumption_data.csv','r'))"
   ]
  },
  {
   "cell_type": "code",
   "execution_count": 13,
   "id": "4677500d",
   "metadata": {},
   "outputs": [
    {
     "data": {
      "text/plain": [
       "<pymongo.results.InsertManyResult at 0x16e5d335640>"
      ]
     },
     "execution_count": 13,
     "metadata": {},
     "output_type": "execute_result"
    }
   ],
   "source": [
    "#create registrations collection\n",
    "\n",
    "def csv_to_json(registrations_data,header=None):\n",
    "    data = pd.read_csv(registrations_data, header=0, low_memory=False)\n",
    "    return data.to_dict('records')\n",
    "\n",
    "registrations.insert_many(csv_to_json('registrations_data.csv','r'))"
   ]
  },
  {
   "cell_type": "code",
   "execution_count": 26,
   "id": "85c304b6",
   "metadata": {},
   "outputs": [
    {
     "data": {
      "text/plain": [
       "<pymongo.results.InsertManyResult at 0x16e72c28300>"
      ]
     },
     "execution_count": 26,
     "metadata": {},
     "output_type": "execute_result"
    }
   ],
   "source": [
    "#create new table for transposed emisssions data\n",
    "\n",
    "def csv_to_json(transposed_emissions,header=None):\n",
    "    data = pd.read_csv(transposed_emissions, header=0, low_memory=False)\n",
    "    return data.to_dict('records')\n",
    "\n",
    "transpose_emissions.insert_many(csv_to_json('transposed_emissions.csv','r'))"
   ]
  },
  {
   "cell_type": "code",
   "execution_count": null,
   "id": "9905bb39",
   "metadata": {},
   "outputs": [],
   "source": []
  }
 ],
 "metadata": {
  "kernelspec": {
   "display_name": "Python 3",
   "language": "python",
   "name": "python3"
  },
  "language_info": {
   "codemirror_mode": {
    "name": "ipython",
    "version": 3
   },
   "file_extension": ".py",
   "mimetype": "text/x-python",
   "name": "python",
   "nbconvert_exporter": "python",
   "pygments_lexer": "ipython3",
   "version": "3.8.8"
  }
 },
 "nbformat": 4,
 "nbformat_minor": 5
}
